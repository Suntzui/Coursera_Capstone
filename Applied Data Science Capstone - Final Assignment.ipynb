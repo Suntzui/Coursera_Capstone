{
 "cells": [
  {
   "cell_type": "markdown",
   "metadata": {
    "collapsed": true
   },
   "source": [
    "# ****Capstone Project - The Battle of the Neighborhoods****"
   ]
  },
  {
   "cell_type": "markdown",
   "metadata": {},
   "source": [
    "# **1. Introduction**"
   ]
  },
  {
   "cell_type": "markdown",
   "metadata": {},
   "source": [
    "The Nuremberg Metropolitan Region comprises 3.5 million people on 21,800 square kilometres. It consists of the cities of Nuremberg, Fürth, Erlangen, Bayreuth and Bamberg and is one of Germany’s strongest economic areas. Due to a decline in historically prevalent industry, such as consumer electronics the area has lacked behind in economic development compared to other more famous German regions, such as Munich or Stuttgart. \n",
    "\n",
    "However, this is also means that real estate and wages are lower compared to its contemporaries. Thus, potential investors find a large pool of well-educated workers, consumers and relatively cheap real estate.\n",
    "\n",
    "The optimal location for an investor would maximize population density, while minimizing real estate prices and competition. These values vary significantly from district to district and from city to city.\n",
    "Therefore, we want to create a map, which charts all areas according to its real estate values, population and venue density.\n",
    "Afterwards, each district is clustered according to the density of venues and business opportunities.\n"
   ]
  },
  {
   "cell_type": "markdown",
   "metadata": {},
   "source": [
    "# 2. Data"
   ]
  },
  {
   "cell_type": "markdown",
   "metadata": {},
   "source": [
    "**2.1 Data description**"
   ]
  },
  {
   "cell_type": "markdown",
   "metadata": {},
   "source": [
    "The following data sources were identified to tackle the business problem:\n",
    "•\tThe number of venues within the certain radius of each district (Foresquare API)\n",
    "\n",
    "•\tThe net income per citizen per district. Source: \n",
    "http://www.boeckler.de/pdf/wsi_vm_verfuegbare_einkommen.xlsx\n",
    "\n",
    "•\tThe population and the population density of the district. Source: \n",
    "http://www.daten.statistik.nuernberg.de/geoinf/ia_bezirksatlas/atlas.html\n",
    "\n",
    "•\tThe housing prices per district. Source: \n",
    "https://www.sollmann.de/infothek/preisspiegel-metropolregion/\n",
    "\n",
    "•\tThe coordinates of each district. Source: Open Street Map \n",
    "https://nominatim.openstreetmap.org/ui/search.html?q=nuremberg\n"
   ]
  },
  {
   "cell_type": "markdown",
   "metadata": {},
   "source": [
    "**2.2 Data Preparation**"
   ]
  },
  {
   "cell_type": "code",
   "execution_count": 7,
   "metadata": {},
   "outputs": [
    {
     "name": "stdout",
     "output_type": "stream",
     "text": [
      "Requirement already satisfied: geopy in d:\\programming\\anaconda\\lib\\site-packages (2.0.0)\n",
      "Requirement already satisfied: geographiclib<2,>=1.49 in d:\\programming\\anaconda\\lib\\site-packages (from geopy) (1.50)\n",
      "Libraries imported.\n"
     ]
    }
   ],
   "source": [
    "#Importing and installing all necessary libaries\n",
    "\n",
    "import numpy as np # library to handle data in a vectorized manner\n",
    "import pandas as pd # library for data analsysis\n",
    "pd.set_option('display.max_columns', None)\n",
    "pd.set_option('display.max_rows', None)\n",
    "\n",
    "import json # library to handle JSON files\n",
    "\n",
    "!pip install geopy\n",
    "from geopy.geocoders import Nominatim # convert an address into latitude and longitude values\n",
    "\n",
    "import requests # library to handle requests\n",
    "from pandas.io.json import json_normalize # tranform JSON file into a pandas dataframe\n",
    "\n",
    "# Matplotlib and associated plotting modules\n",
    "import matplotlib.cm as cm\n",
    "import matplotlib.colors as colors\n",
    "\n",
    "# import k-means from clustering stage\n",
    "from sklearn.cluster import KMeans\n",
    "\n",
    "!pip -q install folium\n",
    "import folium # map rendering library\n",
    "\n",
    "print('Libraries imported.')"
   ]
  },
  {
   "cell_type": "markdown",
   "metadata": {},
   "source": [
    "**Load the district data from wikipedia**"
   ]
  },
  {
   "cell_type": "code",
   "execution_count": 8,
   "metadata": {},
   "outputs": [
    {
     "data": {
      "text/html": [
       "<div>\n",
       "<style scoped>\n",
       "    .dataframe tbody tr th:only-of-type {\n",
       "        vertical-align: middle;\n",
       "    }\n",
       "\n",
       "    .dataframe tbody tr th {\n",
       "        vertical-align: top;\n",
       "    }\n",
       "\n",
       "    .dataframe thead th {\n",
       "        text-align: right;\n",
       "    }\n",
       "</style>\n",
       "<table border=\"1\" class=\"dataframe\">\n",
       "  <thead>\n",
       "    <tr style=\"text-align: right;\">\n",
       "      <th></th>\n",
       "      <th>District</th>\n",
       "      <th>Name</th>\n",
       "      <th>Size (ha)</th>\n",
       "      <th>Population</th>\n",
       "    </tr>\n",
       "  </thead>\n",
       "  <tbody>\n",
       "    <tr>\n",
       "      <th>0</th>\n",
       "      <td>1</td>\n",
       "      <td>Altstadt, St. Lorenz</td>\n",
       "      <td>86.7</td>\n",
       "      <td>5275</td>\n",
       "    </tr>\n",
       "    <tr>\n",
       "      <th>1</th>\n",
       "      <td>2</td>\n",
       "      <td>Marienvorstadt</td>\n",
       "      <td>60.0</td>\n",
       "      <td>1338</td>\n",
       "    </tr>\n",
       "    <tr>\n",
       "      <th>2</th>\n",
       "      <td>3</td>\n",
       "      <td>Tafelhof</td>\n",
       "      <td>64.7</td>\n",
       "      <td>1312</td>\n",
       "    </tr>\n",
       "    <tr>\n",
       "      <th>3</th>\n",
       "      <td>4</td>\n",
       "      <td>Gostenhof</td>\n",
       "      <td>51.8</td>\n",
       "      <td>9462</td>\n",
       "    </tr>\n",
       "    <tr>\n",
       "      <th>4</th>\n",
       "      <td>5</td>\n",
       "      <td>Himpfelshof</td>\n",
       "      <td>65.4</td>\n",
       "      <td>6193</td>\n",
       "    </tr>\n",
       "  </tbody>\n",
       "</table>\n",
       "</div>"
      ],
      "text/plain": [
       "   District                  Name  Size (ha) Population\n",
       "0         1  Altstadt, St. Lorenz       86.7       5275\n",
       "1         2        Marienvorstadt       60.0       1338\n",
       "2         3              Tafelhof       64.7       1312\n",
       "3         4             Gostenhof       51.8       9462\n",
       "4         5           Himpfelshof       65.4       6193"
      ]
     },
     "execution_count": 8,
     "metadata": {},
     "output_type": "execute_result"
    }
   ],
   "source": [
    "df_pop_size = pd.read_excel('Districts.xlsx')\n",
    "df_pop_size.rename(columns = {'Bezirk':'District', 'Fläche (ha)':'Size (ha)', 'Einwohner':'Population'}, inplace = True)\n",
    "df_pop_size.head()"
   ]
  },
  {
   "cell_type": "markdown",
   "metadata": {},
   "source": [
    "**Load the location data that was scrapped from Open Street Map**"
   ]
  },
  {
   "cell_type": "code",
   "execution_count": 14,
   "metadata": {},
   "outputs": [
    {
     "data": {
      "text/html": [
       "<div>\n",
       "<style scoped>\n",
       "    .dataframe tbody tr th:only-of-type {\n",
       "        vertical-align: middle;\n",
       "    }\n",
       "\n",
       "    .dataframe tbody tr th {\n",
       "        vertical-align: top;\n",
       "    }\n",
       "\n",
       "    .dataframe thead th {\n",
       "        text-align: right;\n",
       "    }\n",
       "</style>\n",
       "<table border=\"1\" class=\"dataframe\">\n",
       "  <thead>\n",
       "    <tr style=\"text-align: right;\">\n",
       "      <th></th>\n",
       "      <th>District</th>\n",
       "      <th>Name</th>\n",
       "      <th>Latitude</th>\n",
       "      <th>Longitude</th>\n",
       "    </tr>\n",
       "  </thead>\n",
       "  <tbody>\n",
       "    <tr>\n",
       "      <th>0</th>\n",
       "      <td>1</td>\n",
       "      <td>Altstadt, St. Lorenz</td>\n",
       "      <td>49.447654</td>\n",
       "      <td>11.081863</td>\n",
       "    </tr>\n",
       "    <tr>\n",
       "      <th>1</th>\n",
       "      <td>2</td>\n",
       "      <td>Marienvorstadt</td>\n",
       "      <td>49.449398</td>\n",
       "      <td>11.090167</td>\n",
       "    </tr>\n",
       "    <tr>\n",
       "      <th>2</th>\n",
       "      <td>3</td>\n",
       "      <td>Tafelhof</td>\n",
       "      <td>49.444268</td>\n",
       "      <td>11.070317</td>\n",
       "    </tr>\n",
       "    <tr>\n",
       "      <th>3</th>\n",
       "      <td>4</td>\n",
       "      <td>Gostenhof</td>\n",
       "      <td>49.449685</td>\n",
       "      <td>11.059096</td>\n",
       "    </tr>\n",
       "    <tr>\n",
       "      <th>4</th>\n",
       "      <td>5</td>\n",
       "      <td>Himpfelshof</td>\n",
       "      <td>49.451141</td>\n",
       "      <td>11.063438</td>\n",
       "    </tr>\n",
       "  </tbody>\n",
       "</table>\n",
       "</div>"
      ],
      "text/plain": [
       "   District                  Name   Latitude  Longitude\n",
       "0         1  Altstadt, St. Lorenz  49.447654  11.081863\n",
       "1         2        Marienvorstadt  49.449398  11.090167\n",
       "2         3              Tafelhof  49.444268  11.070317\n",
       "3         4             Gostenhof  49.449685  11.059096\n",
       "4         5           Himpfelshof  49.451141  11.063438"
      ]
     },
     "execution_count": 14,
     "metadata": {},
     "output_type": "execute_result"
    }
   ],
   "source": [
    "df_location = pd.read_excel('District_Coordinates.xlsx')\n",
    "df_location.rename(columns = {'Bezirk':'District'}, inplace = True)\n",
    "df_location.head()"
   ]
  },
  {
   "cell_type": "markdown",
   "metadata": {},
   "source": [
    "**Scrape the public information from a public record**"
   ]
  },
  {
   "cell_type": "code",
   "execution_count": 15,
   "metadata": {},
   "outputs": [
    {
     "data": {
      "text/html": [
       "<div>\n",
       "<style scoped>\n",
       "    .dataframe tbody tr th:only-of-type {\n",
       "        vertical-align: middle;\n",
       "    }\n",
       "\n",
       "    .dataframe tbody tr th {\n",
       "        vertical-align: top;\n",
       "    }\n",
       "\n",
       "    .dataframe thead th {\n",
       "        text-align: right;\n",
       "    }\n",
       "</style>\n",
       "<table border=\"1\" class=\"dataframe\">\n",
       "  <thead>\n",
       "    <tr style=\"text-align: right;\">\n",
       "      <th></th>\n",
       "      <th>District</th>\n",
       "      <th>Fläche (in ha)</th>\n",
       "      <th>Population</th>\n",
       "      <th>Bevölkerung Unter 18 in %</th>\n",
       "      <th>Bevölkerung Über 65 in %</th>\n",
       "      <th>Ausländer</th>\n",
       "      <th>Veränderung zum Vorjahr in %</th>\n",
       "      <th>Haushalte insgesamt</th>\n",
       "      <th>Haushalte einzelpersonen</th>\n",
       "      <th>Bevölkerung mit Beschäftigung</th>\n",
       "      <th>Unemployed</th>\n",
       "      <th>Finished Houses</th>\n",
       "    </tr>\n",
       "  </thead>\n",
       "  <tbody>\n",
       "    <tr>\n",
       "      <th>0</th>\n",
       "      <td>1</td>\n",
       "      <td>86,7</td>\n",
       "      <td>5 275</td>\n",
       "      <td>7,5</td>\n",
       "      <td>13,7</td>\n",
       "      <td>34,3</td>\n",
       "      <td>-0,8</td>\n",
       "      <td>3 605</td>\n",
       "      <td>2 573</td>\n",
       "      <td>2 334</td>\n",
       "      <td>227</td>\n",
       "      <td>14</td>\n",
       "    </tr>\n",
       "    <tr>\n",
       "      <th>1</th>\n",
       "      <td>2</td>\n",
       "      <td>60,0</td>\n",
       "      <td>1 338</td>\n",
       "      <td>11,1</td>\n",
       "      <td>14,9</td>\n",
       "      <td>21,2</td>\n",
       "      <td>2,0</td>\n",
       "      <td>919</td>\n",
       "      <td>606</td>\n",
       "      <td>591</td>\n",
       "      <td>57</td>\n",
       "      <td>11</td>\n",
       "    </tr>\n",
       "    <tr>\n",
       "      <th>2</th>\n",
       "      <td>3</td>\n",
       "      <td>64,7</td>\n",
       "      <td>1 312</td>\n",
       "      <td>17,8</td>\n",
       "      <td>8,5</td>\n",
       "      <td>47,9</td>\n",
       "      <td>8,3</td>\n",
       "      <td>676</td>\n",
       "      <td>388</td>\n",
       "      <td>557</td>\n",
       "      <td>72</td>\n",
       "      <td>-</td>\n",
       "    </tr>\n",
       "    <tr>\n",
       "      <th>3</th>\n",
       "      <td>4</td>\n",
       "      <td>51,8</td>\n",
       "      <td>9 462</td>\n",
       "      <td>16,4</td>\n",
       "      <td>9,4</td>\n",
       "      <td>46,0</td>\n",
       "      <td>-</td>\n",
       "      <td>5 166</td>\n",
       "      <td>2 996</td>\n",
       "      <td>3 525</td>\n",
       "      <td>593</td>\n",
       "      <td>-</td>\n",
       "    </tr>\n",
       "    <tr>\n",
       "      <th>4</th>\n",
       "      <td>5</td>\n",
       "      <td>65,4</td>\n",
       "      <td>6 193</td>\n",
       "      <td>13,6</td>\n",
       "      <td>17,3</td>\n",
       "      <td>25,3</td>\n",
       "      <td>1,6</td>\n",
       "      <td>3 616</td>\n",
       "      <td>2 107</td>\n",
       "      <td>2 614</td>\n",
       "      <td>196</td>\n",
       "      <td>-</td>\n",
       "    </tr>\n",
       "  </tbody>\n",
       "</table>\n",
       "</div>"
      ],
      "text/plain": [
       "  District Fläche (in ha) Population Bevölkerung Unter 18 in %  \\\n",
       "0        1           86,7      5 275                       7,5   \n",
       "1        2           60,0      1 338                      11,1   \n",
       "2        3           64,7      1 312                      17,8   \n",
       "3        4           51,8      9 462                      16,4   \n",
       "4        5           65,4      6 193                      13,6   \n",
       "\n",
       "  Bevölkerung Über 65 in % Ausländer Veränderung zum Vorjahr in %  \\\n",
       "0                     13,7      34,3                         -0,8   \n",
       "1                     14,9      21,2                          2,0   \n",
       "2                      8,5      47,9                          8,3   \n",
       "3                      9,4      46,0                            -   \n",
       "4                     17,3      25,3                          1,6   \n",
       "\n",
       "  Haushalte insgesamt Haushalte einzelpersonen Bevölkerung mit Beschäftigung  \\\n",
       "0               3 605                    2 573                         2 334   \n",
       "1                 919                      606                           591   \n",
       "2                 676                      388                           557   \n",
       "3               5 166                    2 996                         3 525   \n",
       "4               3 616                    2 107                         2 614   \n",
       "\n",
       "  Unemployed Finished Houses  \n",
       "0        227              14  \n",
       "1         57              11  \n",
       "2         72               -  \n",
       "3        593               -  \n",
       "4        196               -  "
      ]
     },
     "execution_count": 15,
     "metadata": {},
     "output_type": "execute_result"
    }
   ],
   "source": [
    "df_gov = pd.read_excel('District_Government.xlsx')\n",
    "df_gov.rename(columns = {'Bezirk':'District','Fläche (ha)':'Size (ha)','Bevölkerung Insgesamt':'Population', 'Arbeitlose':'Unemployed', 'Wohnung Fertigstellung':'Finished Houses'}, inplace = True)\n",
    "df_gov.head()"
   ]
  },
  {
   "cell_type": "code",
   "execution_count": null,
   "metadata": {},
   "outputs": [],
   "source": []
  }
 ],
 "metadata": {
  "kernelspec": {
   "display_name": "Python 3",
   "language": "python",
   "name": "python3"
  },
  "language_info": {
   "codemirror_mode": {
    "name": "ipython",
    "version": 3
   },
   "file_extension": ".py",
   "mimetype": "text/x-python",
   "name": "python",
   "nbconvert_exporter": "python",
   "pygments_lexer": "ipython3",
   "version": "3.7.3"
  }
 },
 "nbformat": 4,
 "nbformat_minor": 1
}
